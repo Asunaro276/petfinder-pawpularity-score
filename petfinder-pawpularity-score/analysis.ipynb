{
 "cells": [
  {
   "cell_type": "code",
   "execution_count": 1,
   "metadata": {
    "collapsed": true
   },
   "outputs": [],
   "source": [
    "import pandas as pd\n",
    "import numpy as np\n",
    "import matplotlib.pyplot as plt\n",
    "import lightgbm as lgb\n",
    "\n",
    "from sklearn.model_selection import train_test_split"
   ]
  },
  {
   "cell_type": "code",
   "execution_count": 2,
   "outputs": [
    {
     "data": {
      "text/plain": "                                 Id  Subject Focus  Eyes  Face  Near  Action  \\\n0  0007de18844b0dbbb5e1f607da0606e0              0     1     1     1       0   \n1  0009c66b9439883ba2750fb825e1d7db              0     1     1     0       0   \n2  0013fd999caf9a3efe1352ca1b0d937e              0     1     1     1       0   \n3  0018df346ac9c1d8413cfcc888ca8246              0     1     1     1       0   \n4  001dc955e10590d3ca4673f034feeef2              0     0     0     1       0   \n\n   Accessory  Group  Collage  Human  Occlusion  Info  Blur  Pawpularity  \n0          0      1        0      0          0     0     0           63  \n1          0      0        0      0          0     0     0           42  \n2          0      0        0      1          1     0     0           28  \n3          0      0        0      0          0     0     0           15  \n4          0      1        0      0          0     0     0           72  ",
      "text/html": "<div>\n<style scoped>\n    .dataframe tbody tr th:only-of-type {\n        vertical-align: middle;\n    }\n\n    .dataframe tbody tr th {\n        vertical-align: top;\n    }\n\n    .dataframe thead th {\n        text-align: right;\n    }\n</style>\n<table border=\"1\" class=\"dataframe\">\n  <thead>\n    <tr style=\"text-align: right;\">\n      <th></th>\n      <th>Id</th>\n      <th>Subject Focus</th>\n      <th>Eyes</th>\n      <th>Face</th>\n      <th>Near</th>\n      <th>Action</th>\n      <th>Accessory</th>\n      <th>Group</th>\n      <th>Collage</th>\n      <th>Human</th>\n      <th>Occlusion</th>\n      <th>Info</th>\n      <th>Blur</th>\n      <th>Pawpularity</th>\n    </tr>\n  </thead>\n  <tbody>\n    <tr>\n      <th>0</th>\n      <td>0007de18844b0dbbb5e1f607da0606e0</td>\n      <td>0</td>\n      <td>1</td>\n      <td>1</td>\n      <td>1</td>\n      <td>0</td>\n      <td>0</td>\n      <td>1</td>\n      <td>0</td>\n      <td>0</td>\n      <td>0</td>\n      <td>0</td>\n      <td>0</td>\n      <td>63</td>\n    </tr>\n    <tr>\n      <th>1</th>\n      <td>0009c66b9439883ba2750fb825e1d7db</td>\n      <td>0</td>\n      <td>1</td>\n      <td>1</td>\n      <td>0</td>\n      <td>0</td>\n      <td>0</td>\n      <td>0</td>\n      <td>0</td>\n      <td>0</td>\n      <td>0</td>\n      <td>0</td>\n      <td>0</td>\n      <td>42</td>\n    </tr>\n    <tr>\n      <th>2</th>\n      <td>0013fd999caf9a3efe1352ca1b0d937e</td>\n      <td>0</td>\n      <td>1</td>\n      <td>1</td>\n      <td>1</td>\n      <td>0</td>\n      <td>0</td>\n      <td>0</td>\n      <td>0</td>\n      <td>1</td>\n      <td>1</td>\n      <td>0</td>\n      <td>0</td>\n      <td>28</td>\n    </tr>\n    <tr>\n      <th>3</th>\n      <td>0018df346ac9c1d8413cfcc888ca8246</td>\n      <td>0</td>\n      <td>1</td>\n      <td>1</td>\n      <td>1</td>\n      <td>0</td>\n      <td>0</td>\n      <td>0</td>\n      <td>0</td>\n      <td>0</td>\n      <td>0</td>\n      <td>0</td>\n      <td>0</td>\n      <td>15</td>\n    </tr>\n    <tr>\n      <th>4</th>\n      <td>001dc955e10590d3ca4673f034feeef2</td>\n      <td>0</td>\n      <td>0</td>\n      <td>0</td>\n      <td>1</td>\n      <td>0</td>\n      <td>0</td>\n      <td>1</td>\n      <td>0</td>\n      <td>0</td>\n      <td>0</td>\n      <td>0</td>\n      <td>0</td>\n      <td>72</td>\n    </tr>\n  </tbody>\n</table>\n</div>"
     },
     "execution_count": 2,
     "metadata": {},
     "output_type": "execute_result"
    }
   ],
   "source": [
    "df_train = pd.read_csv(\"train.csv\")\n",
    "df_test = pd.read_csv(\"test.csv\")\n",
    "df_train.head()"
   ],
   "metadata": {
    "collapsed": false,
    "pycharm": {
     "name": "#%%\n"
    }
   }
  },
  {
   "cell_type": "code",
   "execution_count": 3,
   "outputs": [],
   "source": [
    "X_train = df_train.drop([\"Id\", \"Pawpularity\"], axis=1)\n",
    "y_train = df_train[\"Pawpularity\"] / 100\n",
    "X_train, X_val, y_train, y_val = train_test_split(X_train, y_train, test_size=0.25)\n",
    "train_data = lgb.Dataset(X_train, y_train)\n",
    "val_data = lgb.Dataset(X_val, y_val)"
   ],
   "metadata": {
    "collapsed": false,
    "pycharm": {
     "name": "#%%\n"
    }
   }
  },
  {
   "cell_type": "code",
   "execution_count": 6,
   "outputs": [
    {
     "name": "stdout",
     "output_type": "stream",
     "text": [
      "[1]\ttrain's l2: 0.0422571\tvalid's l2: 0.0426994\n",
      "[2]\ttrain's l2: 0.0422201\tvalid's l2: 0.0426803\n",
      "[3]\ttrain's l2: 0.0421867\tvalid's l2: 0.0426657\n",
      "[4]\ttrain's l2: 0.0421565\tvalid's l2: 0.0426515\n",
      "[5]\ttrain's l2: 0.0421293\tvalid's l2: 0.0426393\n",
      "[6]\ttrain's l2: 0.0421027\tvalid's l2: 0.0426247\n",
      "[7]\ttrain's l2: 0.0420787\tvalid's l2: 0.0426085\n",
      "[8]\ttrain's l2: 0.0420567\tvalid's l2: 0.0425982\n",
      "[9]\ttrain's l2: 0.042037\tvalid's l2: 0.0425856\n",
      "[10]\ttrain's l2: 0.0420191\tvalid's l2: 0.0425782\n",
      "[11]\ttrain's l2: 0.0420029\tvalid's l2: 0.0425687\n",
      "[12]\ttrain's l2: 0.0419863\tvalid's l2: 0.0425619\n",
      "[13]\ttrain's l2: 0.0419716\tvalid's l2: 0.0425542\n",
      "[14]\ttrain's l2: 0.0419581\tvalid's l2: 0.0425487\n",
      "[15]\ttrain's l2: 0.0419466\tvalid's l2: 0.0425429\n",
      "[16]\ttrain's l2: 0.0419355\tvalid's l2: 0.0425389\n",
      "[17]\ttrain's l2: 0.0419257\tvalid's l2: 0.0425361\n",
      "[18]\ttrain's l2: 0.0419152\tvalid's l2: 0.0425317\n",
      "[19]\ttrain's l2: 0.0419068\tvalid's l2: 0.042528\n",
      "[20]\ttrain's l2: 0.0418991\tvalid's l2: 0.0425254\n",
      "[21]\ttrain's l2: 0.0418914\tvalid's l2: 0.0425195\n",
      "[22]\ttrain's l2: 0.0418838\tvalid's l2: 0.0425207\n",
      "[23]\ttrain's l2: 0.0418763\tvalid's l2: 0.0425172\n",
      "[24]\ttrain's l2: 0.0418694\tvalid's l2: 0.042517\n",
      "[25]\ttrain's l2: 0.0418621\tvalid's l2: 0.0425202\n",
      "[26]\ttrain's l2: 0.0418552\tvalid's l2: 0.0425236\n",
      "[27]\ttrain's l2: 0.0418498\tvalid's l2: 0.042525\n",
      "[28]\ttrain's l2: 0.0418405\tvalid's l2: 0.0425274\n",
      "[29]\ttrain's l2: 0.0418358\tvalid's l2: 0.0425314\n",
      "[30]\ttrain's l2: 0.04183\tvalid's l2: 0.0425345\n",
      "[31]\ttrain's l2: 0.0418259\tvalid's l2: 0.0425352\n",
      "[32]\ttrain's l2: 0.0418212\tvalid's l2: 0.0425372\n",
      "[33]\ttrain's l2: 0.0418177\tvalid's l2: 0.042538\n",
      "[34]\ttrain's l2: 0.0418141\tvalid's l2: 0.04254\n",
      "[35]\ttrain's l2: 0.04181\tvalid's l2: 0.042541\n",
      "[36]\ttrain's l2: 0.0418057\tvalid's l2: 0.042542\n",
      "[37]\ttrain's l2: 0.0418022\tvalid's l2: 0.0425421\n",
      "[38]\ttrain's l2: 0.0417935\tvalid's l2: 0.042543\n",
      "[39]\ttrain's l2: 0.0417902\tvalid's l2: 0.0425452\n",
      "[40]\ttrain's l2: 0.0417814\tvalid's l2: 0.0425448\n",
      "[41]\ttrain's l2: 0.0417781\tvalid's l2: 0.0425472\n",
      "[42]\ttrain's l2: 0.041775\tvalid's l2: 0.0425496\n",
      "[43]\ttrain's l2: 0.0417671\tvalid's l2: 0.0425491\n",
      "[44]\ttrain's l2: 0.0417643\tvalid's l2: 0.0425502\n",
      "[45]\ttrain's l2: 0.0417619\tvalid's l2: 0.0425524\n",
      "[46]\ttrain's l2: 0.0417548\tvalid's l2: 0.0425518\n",
      "[47]\ttrain's l2: 0.0417504\tvalid's l2: 0.0425516\n",
      "[48]\ttrain's l2: 0.0417441\tvalid's l2: 0.0425511\n",
      "[49]\ttrain's l2: 0.0417406\tvalid's l2: 0.0425521\n",
      "[50]\ttrain's l2: 0.041738\tvalid's l2: 0.042553\n",
      "[51]\ttrain's l2: 0.0417325\tvalid's l2: 0.0425512\n",
      "[52]\ttrain's l2: 0.0417293\tvalid's l2: 0.0425527\n",
      "[53]\ttrain's l2: 0.0417244\tvalid's l2: 0.0425516\n",
      "[54]\ttrain's l2: 0.0417211\tvalid's l2: 0.0425513\n",
      "[55]\ttrain's l2: 0.0417167\tvalid's l2: 0.0425505\n",
      "[56]\ttrain's l2: 0.0417137\tvalid's l2: 0.0425504\n",
      "[57]\ttrain's l2: 0.0417097\tvalid's l2: 0.04255\n",
      "[58]\ttrain's l2: 0.0417069\tvalid's l2: 0.0425523\n",
      "[59]\ttrain's l2: 0.0417033\tvalid's l2: 0.0425521\n",
      "[60]\ttrain's l2: 0.0417007\tvalid's l2: 0.0425527\n",
      "[61]\ttrain's l2: 0.0416975\tvalid's l2: 0.0425538\n",
      "[62]\ttrain's l2: 0.0416952\tvalid's l2: 0.0425553\n",
      "[63]\ttrain's l2: 0.0416919\tvalid's l2: 0.0425564\n",
      "[64]\ttrain's l2: 0.0416884\tvalid's l2: 0.0425602\n",
      "[65]\ttrain's l2: 0.0416852\tvalid's l2: 0.0425617\n",
      "[66]\ttrain's l2: 0.0416826\tvalid's l2: 0.0425644\n",
      "[67]\ttrain's l2: 0.0416804\tvalid's l2: 0.0425644\n",
      "[68]\ttrain's l2: 0.0416779\tvalid's l2: 0.0425642\n",
      "[69]\ttrain's l2: 0.0416756\tvalid's l2: 0.0425641\n",
      "[70]\ttrain's l2: 0.0416729\tvalid's l2: 0.0425634\n",
      "[71]\ttrain's l2: 0.0416709\tvalid's l2: 0.0425656\n",
      "[72]\ttrain's l2: 0.0416691\tvalid's l2: 0.0425682\n",
      "[73]\ttrain's l2: 0.041667\tvalid's l2: 0.0425681\n",
      "[74]\ttrain's l2: 0.0416649\tvalid's l2: 0.0425683\n",
      "[75]\ttrain's l2: 0.0416623\tvalid's l2: 0.0425678\n",
      "[76]\ttrain's l2: 0.0416598\tvalid's l2: 0.0425688\n",
      "[77]\ttrain's l2: 0.0416577\tvalid's l2: 0.0425693\n",
      "[78]\ttrain's l2: 0.0416557\tvalid's l2: 0.0425705\n",
      "[79]\ttrain's l2: 0.0416532\tvalid's l2: 0.0425711\n",
      "[80]\ttrain's l2: 0.0416509\tvalid's l2: 0.0425719\n",
      "[81]\ttrain's l2: 0.041649\tvalid's l2: 0.0425731\n",
      "[82]\ttrain's l2: 0.0416473\tvalid's l2: 0.042574\n",
      "[83]\ttrain's l2: 0.0416447\tvalid's l2: 0.0425731\n",
      "[84]\ttrain's l2: 0.0416431\tvalid's l2: 0.042574\n",
      "[85]\ttrain's l2: 0.041641\tvalid's l2: 0.042578\n",
      "[86]\ttrain's l2: 0.0416389\tvalid's l2: 0.0425815\n",
      "[87]\ttrain's l2: 0.041637\tvalid's l2: 0.042583\n",
      "[88]\ttrain's l2: 0.0416353\tvalid's l2: 0.0425831\n",
      "[89]\ttrain's l2: 0.0416333\tvalid's l2: 0.0425866\n",
      "[90]\ttrain's l2: 0.0416313\tvalid's l2: 0.0425859\n",
      "[91]\ttrain's l2: 0.0416294\tvalid's l2: 0.0425868\n",
      "[92]\ttrain's l2: 0.0416261\tvalid's l2: 0.0425859\n",
      "[93]\ttrain's l2: 0.0416243\tvalid's l2: 0.0425877\n",
      "[94]\ttrain's l2: 0.0416225\tvalid's l2: 0.0425855\n",
      "[95]\ttrain's l2: 0.0416209\tvalid's l2: 0.0425869\n",
      "[96]\ttrain's l2: 0.0416188\tvalid's l2: 0.0425866\n",
      "[97]\ttrain's l2: 0.0416176\tvalid's l2: 0.0425868\n",
      "[98]\ttrain's l2: 0.0416162\tvalid's l2: 0.0425869\n",
      "[99]\ttrain's l2: 0.0416134\tvalid's l2: 0.0425879\n",
      "[100]\ttrain's l2: 0.0416121\tvalid's l2: 0.042588\n"
     ]
    }
   ],
   "source": [
    "params = {\n",
    "    'boosting_type': 'gbdt',\n",
    "    'objective': 'regression',\n",
    "    'learning_rate': 0.05,\n",
    "    'num_round': 100,\n",
    "    'verbosity': -1,\n",
    "}\n",
    "\n",
    "classifier = lgb.train(params=params,\n",
    "                       train_set=train_data,\n",
    "                       valid_sets=[train_data, val_data],\n",
    "                       valid_names=[\"train\", \"valid\"],\n",
    "                       verbose_eval=1)"
   ],
   "metadata": {
    "collapsed": false,
    "pycharm": {
     "name": "#%%\n"
    }
   }
  },
  {
   "cell_type": "code",
   "execution_count": 4,
   "outputs": [],
   "source": [],
   "metadata": {
    "collapsed": false,
    "pycharm": {
     "name": "#%%\n"
    }
   }
  }
 ],
 "metadata": {
  "kernelspec": {
   "name": "kaggle",
   "language": "python",
   "display_name": "Python (KAGGLE)"
  },
  "language_info": {
   "codemirror_mode": {
    "name": "ipython",
    "version": 2
   },
   "file_extension": ".py",
   "mimetype": "text/x-python",
   "name": "python",
   "nbconvert_exporter": "python",
   "pygments_lexer": "ipython2",
   "version": "2.7.6"
  }
 },
 "nbformat": 4,
 "nbformat_minor": 0
}