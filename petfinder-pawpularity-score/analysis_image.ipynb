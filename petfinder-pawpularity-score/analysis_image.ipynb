{
 "cells": [
  {
   "cell_type": "code",
   "execution_count": 1,
   "metadata": {
    "collapsed": true
   },
   "outputs": [],
   "source": [
    "import pandas as pd\n",
    "import datetime\n",
    "import numpy as np\n",
    "import matplotlib.pyplot as plt\n",
    "from sklearn.model_selection import train_test_split\n",
    "\n",
    "import torch\n",
    "from torch import nn\n",
    "import torch.optim as optim\n",
    "from torchvision import datasets, transforms\n",
    "\n",
    "from model import CNN\n",
    "from data_loader import ImageTransform, ImageDataset"
   ]
  },
  {
   "cell_type": "code",
   "execution_count": 2,
   "outputs": [
    {
     "data": {
      "text/plain": "                                 Id  Subject Focus  Eyes  Face  Near  Action  \\\n0  0007de18844b0dbbb5e1f607da0606e0              0     1     1     1       0   \n1  0009c66b9439883ba2750fb825e1d7db              0     1     1     0       0   \n2  0013fd999caf9a3efe1352ca1b0d937e              0     1     1     1       0   \n3  0018df346ac9c1d8413cfcc888ca8246              0     1     1     1       0   \n4  001dc955e10590d3ca4673f034feeef2              0     0     0     1       0   \n\n   Accessory  Group  Collage  Human  Occlusion  Info  Blur  Pawpularity  \n0          0      1        0      0          0     0     0           63  \n1          0      0        0      0          0     0     0           42  \n2          0      0        0      1          1     0     0           28  \n3          0      0        0      0          0     0     0           15  \n4          0      1        0      0          0     0     0           72  ",
      "text/html": "<div>\n<style scoped>\n    .dataframe tbody tr th:only-of-type {\n        vertical-align: middle;\n    }\n\n    .dataframe tbody tr th {\n        vertical-align: top;\n    }\n\n    .dataframe thead th {\n        text-align: right;\n    }\n</style>\n<table border=\"1\" class=\"dataframe\">\n  <thead>\n    <tr style=\"text-align: right;\">\n      <th></th>\n      <th>Id</th>\n      <th>Subject Focus</th>\n      <th>Eyes</th>\n      <th>Face</th>\n      <th>Near</th>\n      <th>Action</th>\n      <th>Accessory</th>\n      <th>Group</th>\n      <th>Collage</th>\n      <th>Human</th>\n      <th>Occlusion</th>\n      <th>Info</th>\n      <th>Blur</th>\n      <th>Pawpularity</th>\n    </tr>\n  </thead>\n  <tbody>\n    <tr>\n      <th>0</th>\n      <td>0007de18844b0dbbb5e1f607da0606e0</td>\n      <td>0</td>\n      <td>1</td>\n      <td>1</td>\n      <td>1</td>\n      <td>0</td>\n      <td>0</td>\n      <td>1</td>\n      <td>0</td>\n      <td>0</td>\n      <td>0</td>\n      <td>0</td>\n      <td>0</td>\n      <td>63</td>\n    </tr>\n    <tr>\n      <th>1</th>\n      <td>0009c66b9439883ba2750fb825e1d7db</td>\n      <td>0</td>\n      <td>1</td>\n      <td>1</td>\n      <td>0</td>\n      <td>0</td>\n      <td>0</td>\n      <td>0</td>\n      <td>0</td>\n      <td>0</td>\n      <td>0</td>\n      <td>0</td>\n      <td>0</td>\n      <td>42</td>\n    </tr>\n    <tr>\n      <th>2</th>\n      <td>0013fd999caf9a3efe1352ca1b0d937e</td>\n      <td>0</td>\n      <td>1</td>\n      <td>1</td>\n      <td>1</td>\n      <td>0</td>\n      <td>0</td>\n      <td>0</td>\n      <td>0</td>\n      <td>1</td>\n      <td>1</td>\n      <td>0</td>\n      <td>0</td>\n      <td>28</td>\n    </tr>\n    <tr>\n      <th>3</th>\n      <td>0018df346ac9c1d8413cfcc888ca8246</td>\n      <td>0</td>\n      <td>1</td>\n      <td>1</td>\n      <td>1</td>\n      <td>0</td>\n      <td>0</td>\n      <td>0</td>\n      <td>0</td>\n      <td>0</td>\n      <td>0</td>\n      <td>0</td>\n      <td>0</td>\n      <td>15</td>\n    </tr>\n    <tr>\n      <th>4</th>\n      <td>001dc955e10590d3ca4673f034feeef2</td>\n      <td>0</td>\n      <td>0</td>\n      <td>0</td>\n      <td>1</td>\n      <td>0</td>\n      <td>0</td>\n      <td>1</td>\n      <td>0</td>\n      <td>0</td>\n      <td>0</td>\n      <td>0</td>\n      <td>0</td>\n      <td>72</td>\n    </tr>\n  </tbody>\n</table>\n</div>"
     },
     "execution_count": 2,
     "metadata": {},
     "output_type": "execute_result"
    }
   ],
   "source": [
    "df_train = pd.read_csv(\"train.csv\")\n",
    "df_test = pd.read_csv(\"test.csv\")\n",
    "df_train.head()"
   ],
   "metadata": {
    "collapsed": false,
    "pycharm": {
     "name": "#%%\n"
    }
   }
  },
  {
   "cell_type": "code",
   "execution_count": 3,
   "outputs": [],
   "source": [
    "df_train[\"img_path\"] = df_train[\"Id\"].apply(lambda x: f\"train/{x}.jpg\")\n",
    "X_train = df_train.drop([\"Id\", \"Pawpularity\"], axis=1)\n",
    "y_train = df_train[\"Pawpularity\"] / 100\n",
    "X_train, X_val, y_train, y_val = train_test_split(X_train, y_train, test_size=0.25)\n",
    "X_train = X_train.reset_index(drop=True)\n",
    "X_val = X_val.reset_index(drop=True)\n",
    "y_train = y_train.reset_index(drop=True)\n",
    "y_val = y_val.reset_index(drop=True)"
   ],
   "metadata": {
    "collapsed": false,
    "pycharm": {
     "name": "#%%\n"
    }
   }
  },
  {
   "cell_type": "code",
   "execution_count": 4,
   "outputs": [],
   "source": [
    "EPOCH_NUM = 10\n",
    "BATCH_SIZE = 128\n",
    "mean, std = 0, 1\n",
    "size = (256, 256)\n",
    "train = ImageDataset(data_list=X_train[\"img_path\"], transform=ImageTransform(mean, std, size), label_list=y_train)\n",
    "train_dataloader = torch.utils.data.DataLoader(train, BATCH_SIZE, shuffle=True)\n",
    "val = ImageDataset(data_list=X_val[\"img_path\"], transform=ImageTransform(mean, std, size), label_list=y_val)\n",
    "val_dataloader = torch.utils.data.DataLoader(val, BATCH_SIZE, shuffle=True)"
   ],
   "metadata": {
    "collapsed": false,
    "pycharm": {
     "name": "#%%\n"
    }
   }
  },
  {
   "cell_type": "code",
   "execution_count": 5,
   "outputs": [],
   "source": [
    "in_channels = 3\n",
    "hidden_channels = 32\n",
    "out_channels = 1\n",
    "classifier = CNN(in_channels, out_channels, hidden_channels)\n",
    "criterion = nn.MSELoss()\n",
    "optimizer = optim.Adam(classifier.parameters())"
   ],
   "metadata": {
    "collapsed": false,
    "pycharm": {
     "name": "#%%\n"
    }
   }
  },
  {
   "cell_type": "code",
   "execution_count": 7,
   "outputs": [
    {
     "name": "stdout",
     "output_type": "stream",
     "text": [
      "Train\n"
     ]
    },
    {
     "name": "stderr",
     "output_type": "stream",
     "text": [
      "C:\\Users\\ryuhe\\Anaconda3\\envs\\KAGGLE\\lib\\site-packages\\torch\\nn\\modules\\loss.py:528: UserWarning: Using a target size (torch.Size([10])) that is different to the input size (torch.Size([10, 1])). This will likely lead to incorrect results due to broadcasting. Please ensure they have the same size.\n",
      "  return F.mse_loss(input, target, reduction=self.reduction)\n"
     ]
    },
    {
     "name": "stdout",
     "output_type": "stream",
     "text": [
      "epoch:1 total loss:1657.544319972396\n"
     ]
    },
    {
     "name": "stderr",
     "output_type": "stream",
     "text": [
      "C:\\Users\\ryuhe\\Anaconda3\\envs\\KAGGLE\\lib\\site-packages\\torch\\nn\\modules\\loss.py:528: UserWarning: Using a target size (torch.Size([46])) that is different to the input size (torch.Size([46, 1])). This will likely lead to incorrect results due to broadcasting. Please ensure they have the same size.\n",
      "  return F.mse_loss(input, target, reduction=self.reduction)\n"
     ]
    },
    {
     "name": "stdout",
     "output_type": "stream",
     "text": [
      "val acc:0.0 time:0:18:04.835010\n",
      "####################\n",
      "epoch:2 total loss:13.133052259683609\n",
      "val acc:0.0 time:0:15:30.302980\n",
      "####################\n",
      "epoch:3 total loss:12.700983628630638\n",
      "val acc:0.0 time:0:13:27.561399\n",
      "####################\n",
      "epoch:4 total loss:12.42160576581955\n",
      "val acc:0.0 time:0:10:42.909000\n",
      "####################\n",
      "epoch:5 total loss:11.955485314130783\n",
      "val acc:0.0 time:0:10:27.314213\n",
      "####################\n",
      "epoch:6 total loss:11.672575026750565\n",
      "val acc:0.0 time:0:10:35.874004\n",
      "####################\n",
      "epoch:7 total loss:11.483851313591003\n",
      "val acc:0.0 time:0:10:02.347459\n",
      "####################\n",
      "epoch:8 total loss:11.089772641658783\n",
      "val acc:0.0 time:0:09:52.776368\n",
      "####################\n",
      "epoch:9 total loss:10.845300853252411\n",
      "val acc:0.0 time:0:09:51.104039\n",
      "####################\n",
      "epoch:10 total loss:10.463958829641342\n",
      "val acc:0.0 time:0:09:53.779255\n",
      "####################\n"
     ]
    }
   ],
   "source": [
    "print(\"Train\")\n",
    "st = datetime.datetime.now()\n",
    "for epoch in range(EPOCH_NUM):\n",
    "    total_loss = 0\n",
    "    for images, labels in train_dataloader:\n",
    "        images = images.to(torch.float)\n",
    "        labels = labels.to(torch.float).view(-1)\n",
    "        optimizer.zero_grad()\n",
    "        outputs = classifier.forward(images)\n",
    "        loss = criterion(outputs, labels).to(torch.float)\n",
    "        total_loss += loss.item()\n",
    "\n",
    "        loss.backward()\n",
    "        optimizer.step()\n",
    "\n",
    "    if (epoch+1) % 1 == 0:\n",
    "        print(f\"epoch:{epoch+1} total loss:{total_loss}\")\n",
    "\n",
    "    total_loss = 0\n",
    "    correct = 0\n",
    "    total = 0\n",
    "    classifier.eval()\n",
    "    with torch.no_grad():\n",
    "        for images, labels in val_dataloader:\n",
    "            images = images.to(torch.float)\n",
    "            labels = labels.to(torch.float).view(-1)\n",
    "            outputs = classifier(images)\n",
    "            loss = criterion(outputs, labels)\n",
    "            total_loss += loss.item()\n",
    "            total += labels.size(0)\n",
    "    val_loss = total_loss / total\n",
    "    if (epoch+1) % 1 == 0:\n",
    "        ed = datetime.datetime.now()\n",
    "        print(f\"val loss:{val_loss} time:{ed-st}\")\n",
    "        print(\"#\"*30)\n",
    "        st = datetime.datetime.now()"
   ],
   "metadata": {
    "collapsed": false,
    "pycharm": {
     "name": "#%%\n"
    }
   }
  },
  {
   "cell_type": "code",
   "execution_count": null,
   "outputs": [],
   "source": [],
   "metadata": {
    "collapsed": false,
    "pycharm": {
     "name": "#%%\n"
    }
   }
  },
  {
   "cell_type": "code",
   "execution_count": null,
   "outputs": [],
   "source": [],
   "metadata": {
    "collapsed": false,
    "pycharm": {
     "name": "#%%\n"
    }
   }
  }
 ],
 "metadata": {
  "kernelspec": {
   "name": "kaggle",
   "language": "python",
   "display_name": "Python (KAGGLE)"
  },
  "language_info": {
   "codemirror_mode": {
    "name": "ipython",
    "version": 2
   },
   "file_extension": ".py",
   "mimetype": "text/x-python",
   "name": "python",
   "nbconvert_exporter": "python",
   "pygments_lexer": "ipython2",
   "version": "2.7.6"
  }
 },
 "nbformat": 4,
 "nbformat_minor": 0
}